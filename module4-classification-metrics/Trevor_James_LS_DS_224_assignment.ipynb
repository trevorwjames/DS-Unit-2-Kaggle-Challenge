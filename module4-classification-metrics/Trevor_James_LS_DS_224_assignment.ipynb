{
  "nbformat": 4,
  "nbformat_minor": 0,
  "metadata": {
    "kernelspec": {
      "display_name": "Python 3",
      "language": "python",
      "name": "python3"
    },
    "language_info": {
      "codemirror_mode": {
        "name": "ipython",
        "version": 3
      },
      "file_extension": ".py",
      "mimetype": "text/x-python",
      "name": "python",
      "nbconvert_exporter": "python",
      "pygments_lexer": "ipython3",
      "version": "3.7.3"
    },
    "colab": {
      "name": "Trevor_James_LS_DS_224_assignment.ipynb",
      "provenance": [],
      "include_colab_link": true
    }
  },
  "cells": [
    {
      "cell_type": "markdown",
      "metadata": {
        "id": "view-in-github",
        "colab_type": "text"
      },
      "source": [
        "<a href=\"https://colab.research.google.com/github/trevorwjames/DS-Unit-2-Kaggle-Challenge/blob/master/module4-classification-metrics/Trevor_James_LS_DS_224_assignment.ipynb\" target=\"_parent\"><img src=\"https://colab.research.google.com/assets/colab-badge.svg\" alt=\"Open In Colab\"/></a>"
      ]
    },
    {
      "cell_type": "markdown",
      "metadata": {
        "id": "xG-cOaRJT84B",
        "colab_type": "text"
      },
      "source": [
        "Lambda School Data Science\n",
        "\n",
        "*Unit 2, Sprint 2, Module 4*\n",
        "\n",
        "---"
      ]
    },
    {
      "cell_type": "markdown",
      "metadata": {
        "colab_type": "text",
        "id": "nCc3XZEyG3XV"
      },
      "source": [
        "# Classification Metrics\n",
        "\n",
        "## Assignment\n",
        "- [ ] If you haven't yet, [review requirements for your portfolio project](https://lambdaschool.github.io/ds/unit2), then submit your dataset.\n",
        "- [ ] Plot a confusion matrix for your Tanzania Waterpumps model.\n",
        "- [ ] Continue to participate in our Kaggle challenge. Every student should have made at least one submission that scores at least 70% accuracy (well above the majority class baseline).\n",
        "- [ ] Submit your final predictions to our Kaggle competition. Optionally, go to **My Submissions**, and _\"you may select up to 1 submission to be used to count towards your final leaderboard score.\"_\n",
        "- [ ] Commit your notebook to your fork of the GitHub repo.\n",
        "- [ ] Read [Maximizing Scarce Maintenance Resources with Data: Applying predictive modeling, precision at k, and clustering to optimize impact](http://archive.is/DelgE), by Lambda DS3 student Michael Brady. His blog post extends the Tanzania Waterpumps scenario, far beyond what's in the lecture notebook.\n",
        "\n",
        "\n",
        "## Stretch Goals\n",
        "\n",
        "### Reading\n",
        "\n",
        "- [Attacking discrimination with smarter machine learning](https://research.google.com/bigpicture/attacking-discrimination-in-ml/), by Google Research, with  interactive visualizations. _\"A threshold classifier essentially makes a yes/no decision, putting things in one category or another. We look at how these classifiers work, ways they can potentially be unfair, and how you might turn an unfair classifier into a fairer one. As an illustrative example, we focus on loan granting scenarios where a bank may grant or deny a loan based on a single, automatically computed number such as a credit score.\"_\n",
        "- [Notebook about how to calculate expected value from a confusion matrix by treating it as a cost-benefit matrix](https://github.com/podopie/DAT18NYC/blob/master/classes/13-expected_value_cost_benefit_analysis.ipynb)\n",
        "- [Visualizing Machine Learning Thresholds to Make Better Business Decisions](https://blog.insightdatascience.com/visualizing-machine-learning-thresholds-to-make-better-business-decisions-4ab07f823415)\n",
        "\n",
        "\n",
        "### Doing\n",
        "- [ ] Share visualizations in our Slack channel!\n",
        "- [ ] RandomizedSearchCV / GridSearchCV, for model selection. (See module 3 assignment notebook)\n",
        "- [ ] Stacking Ensemble. (See module 3 assignment notebook)\n",
        "- [ ] More Categorical Encoding. (See module 2 assignment notebook)"
      ]
    },
    {
      "cell_type": "code",
      "metadata": {
        "colab_type": "code",
        "id": "lsbRiKBoB5RE",
        "colab": {}
      },
      "source": [
        "%%capture\n",
        "import sys\n",
        "\n",
        "# If you're on Colab:\n",
        "if 'google.colab' in sys.modules:\n",
        "    DATA_PATH = 'https://raw.githubusercontent.com/LambdaSchool/DS-Unit-2-Kaggle-Challenge/master/data/'\n",
        "    !pip install category_encoders==2.*\n",
        "\n",
        "# If you're working locally:\n",
        "else:\n",
        "    DATA_PATH = '../data/'"
      ],
      "execution_count": 64,
      "outputs": []
    },
    {
      "cell_type": "code",
      "metadata": {
        "colab_type": "code",
        "id": "BVA1lph8CcNX",
        "colab": {}
      },
      "source": [
        "import pandas as pd\n",
        "%matplotlib inline\n",
        "import category_encoders as ce\n",
        "import matplotlib.pyplot as plt\n",
        "import numpy as np\n",
        "import seaborn as sns\n",
        "from sklearn.impute import SimpleImputer\n",
        "from sklearn.metrics import accuracy_score\n",
        "from sklearn.model_selection import train_test_split\n",
        "from sklearn.pipeline import make_pipeline\n",
        "from sklearn.preprocessing import FunctionTransformer\n",
        "from sklearn.ensemble import RandomForestClassifier\n",
        "\n",
        "def wrangle(X):\n",
        "  # creating copy\n",
        "  X = X.copy()\n",
        "\n",
        "  # conver date to datetime format\n",
        "  X['date_recorded'] = pd.to_datetime(X['date_recorded'], infer_datetime_format=True)\n",
        "\n",
        "  # extract components of datetime\n",
        "  X['year_recorded'] = X['date_recorded'].dt.year\n",
        "  X['month_recorded'] = X['date_recorded'].dt.month\n",
        "  X['day_recorded'] = X['date_recorded'].dt.day\n",
        "  X = X.drop(columns='date_recorded')\n",
        "\n",
        "\n",
        "  # Engineered feature - # of years from construction to date recorded\n",
        "  X['year'] = X['year_recorded'] - X['construction_year']\n",
        "\n",
        "  # drop columns that do not vary\n",
        "  unusable_variance = ['recorded_by', 'id']\n",
        "  X = X.drop(columns=unusable_variance)\n",
        "\n",
        "  # duplicate columns that can create repitition\n",
        "  duplicate_columns = ['waterpoint_type_group', 'payment_type', \n",
        "                      'extraction_type_group']\n",
        "  X = X.drop(columns=duplicate_columns)\n",
        "\n",
        "  # Treating the very small near 0 features like Nan or zeros\n",
        "  X['latitude'] = X['latitude'].replace(-2e-08, np.nan)\n",
        "\n",
        "  # columns that have zeros that really should be NaNs\n",
        "  cols_with_zeros = ['construction_year', 'longitude', 'latitude', 'gps_height', 'population']\n",
        "  for col in cols_with_zeros:\n",
        "        X[col] = X[col].replace(0, np.nan)\n",
        "\n",
        "  return X\n",
        "\n",
        "\n",
        "# Merge train_features.csv & train_labels.csv\n",
        "train = pd.merge(pd.read_csv(DATA_PATH+'waterpumps/train_features.csv'), \n",
        "                 pd.read_csv(DATA_PATH+'waterpumps/train_labels.csv'))\n",
        "\n",
        "# Read test_features.csv & sample_submission.csv\n",
        "test = pd.read_csv(DATA_PATH+'waterpumps/test_features.csv')\n",
        "sample_submission = pd.read_csv(DATA_PATH+'waterpumps/sample_submission.csv')\n",
        "\n",
        "target = 'status_group'\n",
        "train, val = train_test_split(train, test_size=len(test), stratify=train[target], random_state=42)\n",
        "\n",
        "X_train = train.drop(columns=target)\n",
        "y_train = train[target]\n",
        "X_val = val.drop(columns=target)\n",
        "y_val = val[target]\n",
        "X_test = test"
      ],
      "execution_count": 65,
      "outputs": []
    },
    {
      "cell_type": "code",
      "metadata": {
        "id": "l9lPb1FsiL-z",
        "colab_type": "code",
        "colab": {}
      },
      "source": [
        "X_train['date_recorded'] = pd.to_datetime(X_train['date_recorded'], infer_datetime_format=True)"
      ],
      "execution_count": 66,
      "outputs": []
    },
    {
      "cell_type": "code",
      "metadata": {
        "id": "CyUh8r1CZuZC",
        "colab_type": "code",
        "colab": {
          "base_uri": "https://localhost:8080/",
          "height": 119
        },
        "outputId": "dc09092d-c954-45cf-fca2-cfdc5c28e936"
      },
      "source": [
        "X_train['date_recorded'].head()"
      ],
      "execution_count": 67,
      "outputs": [
        {
          "output_type": "execute_result",
          "data": {
            "text/plain": [
              "45793   2011-03-30\n",
              "26326   2011-02-28\n",
              "53251   2013-01-27\n",
              "26791   2011-02-27\n",
              "2162    2013-01-18\n",
              "Name: date_recorded, dtype: datetime64[ns]"
            ]
          },
          "metadata": {
            "tags": []
          },
          "execution_count": 67
        }
      ]
    },
    {
      "cell_type": "code",
      "metadata": {
        "id": "5aI5xQuBfsQk",
        "colab_type": "code",
        "colab": {}
      },
      "source": [
        ""
      ],
      "execution_count": 67,
      "outputs": []
    },
    {
      "cell_type": "code",
      "metadata": {
        "id": "nyuWWV5AT84M",
        "colab_type": "code",
        "colab": {
          "base_uri": "https://localhost:8080/",
          "height": 391
        },
        "outputId": "90de7a26-02b2-444a-a15c-d4332952beb7"
      },
      "source": [
        "pipeline = make_pipeline(\n",
        "    FunctionTransformer(wrangle, validate=False), \n",
        "    ce.OrdinalEncoder(), \n",
        "    SimpleImputer(strategy='median'), \n",
        "    RandomForestClassifier(max_depth=19, min_samples_split=4, max_features='sqrt')\n",
        ")\n",
        "\n",
        "pipeline"
      ],
      "execution_count": 68,
      "outputs": [
        {
          "output_type": "execute_result",
          "data": {
            "text/plain": [
              "Pipeline(memory=None,\n",
              "         steps=[('functiontransformer',\n",
              "                 FunctionTransformer(accept_sparse=False, check_inverse=True,\n",
              "                                     func=<function wrangle at 0x7fef2e8edf28>,\n",
              "                                     inv_kw_args=None, inverse_func=None,\n",
              "                                     kw_args=None, validate=False)),\n",
              "                ('ordinalencoder',\n",
              "                 OrdinalEncoder(cols=None, drop_invariant=False,\n",
              "                                handle_missing='value', handle_unknown='value',\n",
              "                                mapping=None, return_df=Tru...\n",
              "                 RandomForestClassifier(bootstrap=True, ccp_alpha=0.0,\n",
              "                                        class_weight=None, criterion='gini',\n",
              "                                        max_depth=19, max_features='sqrt',\n",
              "                                        max_leaf_nodes=None, max_samples=None,\n",
              "                                        min_impurity_decrease=0.0,\n",
              "                                        min_impurity_split=None,\n",
              "                                        min_samples_leaf=1, min_samples_split=4,\n",
              "                                        min_weight_fraction_leaf=0.0,\n",
              "                                        n_estimators=100, n_jobs=None,\n",
              "                                        oob_score=False, random_state=None,\n",
              "                                        verbose=0, warm_start=False))],\n",
              "         verbose=False)"
            ]
          },
          "metadata": {
            "tags": []
          },
          "execution_count": 68
        }
      ]
    },
    {
      "cell_type": "code",
      "metadata": {
        "id": "jxfVChzFZcTU",
        "colab_type": "code",
        "colab": {
          "base_uri": "https://localhost:8080/",
          "height": 34
        },
        "outputId": "67a2ff16-b44e-4faf-c308-2970e2ed043e"
      },
      "source": [
        "# fit pipeline on data\n",
        "\n",
        "pipeline.fit(X_train, y_train)\n",
        "y_pred = pipeline.predict(X_val)\n",
        "print('Val Accuracy:', accuracy_score(y_val, y_pred))"
      ],
      "execution_count": 69,
      "outputs": [
        {
          "output_type": "stream",
          "text": [
            "Val Accuracy: 0.8100710405348934\n"
          ],
          "name": "stdout"
        }
      ]
    },
    {
      "cell_type": "markdown",
      "metadata": {
        "id": "K1LOsv7nkyqk",
        "colab_type": "text"
      },
      "source": [
        "# Confusion Matrix"
      ]
    },
    {
      "cell_type": "code",
      "metadata": {
        "id": "ZcC8NCKioWVg",
        "colab_type": "code",
        "colab": {}
      },
      "source": [
        "from sklearn.metrics import precision_score, recall_score"
      ],
      "execution_count": 70,
      "outputs": []
    },
    {
      "cell_type": "code",
      "metadata": {
        "id": "rGOCDEaxkx3l",
        "colab_type": "code",
        "colab": {
          "base_uri": "https://localhost:8080/",
          "height": 546
        },
        "outputId": "829e582d-5587-4380-cbc1-a730acd83f28"
      },
      "source": [
        "from sklearn.metrics import plot_confusion_matrix, classification_report\n",
        "\n",
        "plt.rcParams['figure.dpi'] = 100\n",
        "plot_confusion_matrix(pipeline, X_val, y_val, values_format='.0f', xticks_rotation='vertical')"
      ],
      "execution_count": 71,
      "outputs": [
        {
          "output_type": "execute_result",
          "data": {
            "text/plain": [
              "<sklearn.metrics._plot.confusion_matrix.ConfusionMatrixDisplay at 0x7fef2f3bcd68>"
            ]
          },
          "metadata": {
            "tags": []
          },
          "execution_count": 71
        },
        {
          "output_type": "display_data",
          "data": {
            "image/png": "[encoded data removed]",
            "text/plain": [
              "<Figure size 600x400 with 2 Axes>"
            ]
          },
          "metadata": {
            "tags": [],
            "needs_background": "light"
          }
        }
      ]
    },
    {
      "cell_type": "code",
      "metadata": {
        "id": "_3-RXwnzodpl",
        "colab_type": "code",
        "colab": {
          "base_uri": "https://localhost:8080/",
          "height": 68
        },
        "outputId": "d6934d78-b5a8-49f9-bb9b-12707e80f630"
      },
      "source": [
        "print('accuracy score:', accuracy_score(y_val, y_pred))\n",
        "print(precision_score(y_val, y_pred, average=None))\n",
        "print(recall_score(y_val, y_pred, average=None))"
      ],
      "execution_count": 72,
      "outputs": [
        {
          "output_type": "stream",
          "text": [
            "accuracy score: 0.8100710405348934\n",
            "[0.78726198 0.65458937 0.86683313]\n",
            "[0.92254424 0.25982742 0.75512054]\n"
          ],
          "name": "stdout"
        }
      ]
    },
    {
      "cell_type": "code",
      "metadata": {
        "id": "sVSdEZsPlUpf",
        "colab_type": "code",
        "colab": {
          "base_uri": "https://localhost:8080/",
          "height": 187
        },
        "outputId": "5c5c0a85-5c23-476f-cc44-3394950b9bbe"
      },
      "source": [
        "print(classification_report(y_val, y_pred))"
      ],
      "execution_count": 73,
      "outputs": [
        {
          "output_type": "stream",
          "text": [
            "                         precision    recall  f1-score   support\n",
            "\n",
            "             functional       0.79      0.92      0.85      7798\n",
            "functional needs repair       0.65      0.26      0.37      1043\n",
            "         non functional       0.87      0.76      0.81      5517\n",
            "\n",
            "               accuracy                           0.81     14358\n",
            "              macro avg       0.77      0.65      0.68     14358\n",
            "           weighted avg       0.81      0.81      0.80     14358\n",
            "\n"
          ],
          "name": "stdout"
        }
      ]
    },
    {
      "cell_type": "markdown",
      "metadata": {
        "id": "BipUxggHkS8m",
        "colab_type": "text"
      },
      "source": [
        "# Submission To Kaggel on todays model"
      ]
    },
    {
      "cell_type": "code",
      "metadata": {
        "id": "tNFdyG0yYClE",
        "colab_type": "code",
        "colab": {}
      },
      "source": [
        "# training model on more data = More Betta! \n",
        "X_train2 = pd.concat([X_train, X_val])\n",
        "y_train2 = pd.concat([y_train, y_val])"
      ],
      "execution_count": 74,
      "outputs": []
    },
    {
      "cell_type": "code",
      "metadata": {
        "id": "8_b1QoGwjROe",
        "colab_type": "code",
        "colab": {
          "base_uri": "https://localhost:8080/",
          "height": 51
        },
        "outputId": "6aa4051e-76f9-4785-f320-f2a9a3f0d459"
      },
      "source": [
        "# fitting model to new bigger data, making sure nothing went wrong\n",
        "pipeline.fit(X_train2, y_train2)\n",
        "\n",
        "print('Training Data Accuracy:', pipeline.score(X_train, y_train))\n",
        "print('Val data accuracy:', pipeline.score(X_val, y_val))"
      ],
      "execution_count": 75,
      "outputs": [
        {
          "output_type": "stream",
          "text": [
            "Training Data Accuracy: 0.9153900803694329\n",
            "Val data accuracy: 0.9198356317035798\n"
          ],
          "name": "stdout"
        }
      ]
    },
    {
      "cell_type": "code",
      "metadata": {
        "id": "xHOBSxsYjTbk",
        "colab_type": "code",
        "colab": {}
      },
      "source": [
        "# Submission cell\n",
        "y_pred = pipeline.predict(X_test)\n",
        "\n",
        "submission = sample_submission.copy()\n",
        "submission['status_group'] = y_pred\n",
        "submission.to_csv('trevor-james-submission9.csv', index=False)"
      ],
      "execution_count": 76,
      "outputs": []
    }
  ]
}